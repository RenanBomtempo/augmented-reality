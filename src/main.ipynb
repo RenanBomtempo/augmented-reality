{
 "metadata": {
  "language_info": {
   "codemirror_mode": {
    "name": "ipython",
    "version": 3
   },
   "file_extension": ".py",
   "mimetype": "text/x-python",
   "name": "python",
   "nbconvert_exporter": "python",
   "pygments_lexer": "ipython3",
   "version": "3.7.8-final"
  },
  "orig_nbformat": 2,
  "kernelspec": {
   "name": "Python 3.7.8 64-bit",
   "display_name": "Python 3.7.8 64-bit",
   "metadata": {
    "interpreter": {
     "hash": "b57c65da59a467fad91b2934d3bdfd8b6ff433631ed037d67c553270b395d93a"
    }
   }
  }
 },
 "nbformat": 4,
 "nbformat_minor": 2,
 "cells": [
  {
   "source": [
    "# Trabalho Prático 2: Realidade Aumentada\n",
    "\n",
    "## Alunos: \n",
    "\n",
    "- Felipe Eduardo dos Santos - 2017021223\n",
    "- Renan Antunes Braga Bomtempo - 2018048524"
   ],
   "cell_type": "markdown",
   "metadata": {}
  },
  {
   "source": [
    "## Dependências\n"
   ],
   "cell_type": "markdown",
   "metadata": {}
  },
  {
   "cell_type": "code",
   "execution_count": 2,
   "metadata": {},
   "outputs": [],
   "source": [
    "# OpenCV\n",
    "import cv2\n",
    "\n",
    "import numpy as np\n",
    "\n",
    "# OpenGL\n",
    "from OpenGL.GL import *\n",
    "from OpenGL.GLUT import *\n",
    "from OpenGL.GLU import *\n",
    "\n",
    "from objloader import *"
   ]
  },
  {
   "source": [
    "## Funções Auxiliares (OpenGL)"
   ],
   "cell_type": "markdown",
   "metadata": {}
  },
  {
   "cell_type": "code",
   "execution_count": 3,
   "metadata": {},
   "outputs": [],
   "source": [
    "'''\n",
    "Inicialização dos parâmetros da OpenGL.\n",
    "'''\n",
    "def initOpenGL(focal_len, dimensions):\n",
    "    (width, height) = dimensions\n",
    "    \n",
    "    glClearColor(0.0, 0.0, 0.0, 0.0)\n",
    "    glClearDepth(1.0)\n",
    "\n",
    "    glEnable(GL_DEPTH_TEST)\n",
    "\n",
    "    glMatrixMode(GL_PROJECTION)\n",
    "    glLoadIdentity()\n",
    " \n",
    "    fx = focal_len[0]\n",
    "\tfy = focal_len[1]\n",
    "\tfovy = 2*np.arctan(0.5*height/fy)*180/np.pi\n",
    "\taspect = (width*fy)/(height*fx)\n",
    "    gluPerspective(fovy, aspect, 0.1, 100.0)\n",
    "\n",
    "\n",
    "def idleCallback():\n",
    "    glutPostRedisplay()"
   ]
  },
  {
   "source": [
    "## Encontrar o alvo na cena"
   ],
   "cell_type": "markdown",
   "metadata": {}
  },
  {
   "cell_type": "code",
   "execution_count": null,
   "metadata": {},
   "outputs": [],
   "source": [
    "def detect_markers():\n",
    "    return"
   ]
  },
  {
   "source": [
    "## Posicionar o modelo em cima do alvo"
   ],
   "cell_type": "markdown",
   "metadata": {}
  },
  {
   "cell_type": "code",
   "execution_count": null,
   "metadata": {},
   "outputs": [],
   "source": [
    "'''\n",
    "Posiciona um objeto 3D em cima do alvo detectado na cena.\n",
    "'''\n",
    "def object3D(img_pts, world_pts, camera_matrix, dist_coef, obj):\n",
    "    # Calcular matrix de projeção\n",
    "    _, rot_vecs, t_vecs = cv2.solvePnP(world_pts, img_pts, camera_matrix, dist_coef)\n",
    "    rot_m = cv2.Rodrigues(rot_vecs)[0]\n",
    "\n",
    "\tproj_matrix = np.array([[rot_m[0][0], rot_m[0][1], rot_m[0][2], t_vecs[0]], \n",
    "\t\t                    [rot_m[1][0], rot_m[1][1], rot_m[1][2], t_vecs[1]], \n",
    "\t\t                    [rot_m[2][0], rot_m[2][1], rot_m[2][2], t_vecs[2]],\n",
    "\t\t                    [        0.0,         0.0,         0.0,      1.0]])\n",
    "\n",
    "\t# Mudança de sistema de coordenadas (OpenCV -> OpenGL)\n",
    "\tflip_yz = np.array([[1, 0,  0, 0],\n",
    "\t\t                [0, 1,  0, 0],\n",
    "\t\t                [0, 0, -1, 0],\n",
    "\t\t                [0, 0,  0, 1]])\n",
    "\n",
    "\tproj_matrix = np.dot(flip_yz, proj_matrix)\n",
    "\n",
    "\tglLoadMatrixd(np.transpose(proj_matrix))\n",
    "\n",
    "    # Renderiza o modelo do Pikachu\n",
    "    glCallList(obj.gl_list)"
   ]
  },
  {
   "source": [],
   "cell_type": "markdown",
   "metadata": {}
  },
  {
   "cell_type": "code",
   "execution_count": null,
   "metadata": {},
   "outputs": [],
   "source": [
    "'''\n",
    "Loop de renderização\n",
    "'''\n",
    "def displayCallback():\n",
    "    glMatrixMode(GL_MODELVIEW)\n",
    "    glLoadIdentity()\n",
    "    glClear(GL_COLOR_BUFFER_BIT | GL_DEPTH_BUFFER_BIT)\n",
    "    \n",
    "    # carregar o modelo 3D do Pikachu\n",
    "    obj = OBJ(\"Pikachu.obj\", swapyz=True)\n",
    "\n",
    "    # habilita o uso de texturas (o Pikachu tem textura)\n",
    "    glEnable(GL_TEXTURE_2D)\n",
    "\n",
    "    # Encontra os alvos na cena\n",
    "    alvos = detect_markers()\n",
    "\n",
    "    for alvo in alvos:\n",
    "        # Posiciona o modelo 3D em cima do alvo\n",
    "        object3D(alvo[0], alvo[1], camera_matrix, dist_coef, obj) \n",
    "        glutSwapBuffers()     "
   ]
  },
  {
   "source": [
    "# Main Function"
   ],
   "cell_type": "markdown",
   "metadata": {}
  },
  {
   "cell_type": "code",
   "execution_count": 4,
   "metadata": {},
   "outputs": [],
   "source": [
    "if __name__ == '__main__':\n",
    "    # Intrinsic paremeters from camera calibration\n",
    "    focal_len = (1295.66495, 1280.53452)\n",
    "    princ_pt  = ( 915.60124,  478.74546)\n",
    "    dist_coef = np.array([0.06646, 0.27952, -0.00221, -0.00802, 0.])\n",
    "    \n",
    "    # Camera matrix\n",
    "    camera_matrix = np.array([[focal_len[0], 0.          , princ_pt[0]],\n",
    "                              [0.          , focal_len[1], princ_pt[1]],\n",
    "                              [0.          , 0.          , 1.        ]])\n",
    "\n",
    "    # Open input video\n",
    "    vid = cv2.VideoCapture('tp2-icv-input.mp4')\n",
    "\n",
    "    # Viewport dimensions\n",
    "    dimensions = (640, 480)\n",
    "\n",
    "    # GLUT configuration\n",
    "    glutInit()\n",
    "    glutInitDisplayMode(GLUT_RGBA | GLUT_DOUBLE)\n",
    "    glutSetOption(GLUT_ACTION_ON_WINDOW_CLOSE, GLUT_ACTION_CONTINUE_EXECUTION)\n",
    "    glutInitWindowSize(*dimensions)\n",
    "    window = glutCreateWindow(b'Realidade Aumentada')\n",
    "\n",
    "    # OpenGL intialization\n",
    "    initOpenGL(focal_len, dimensions)\n",
    "\n",
    "    glutDisplayFunc(displayCallback)\n",
    "    glutIdleFunc(idleCallback)\n",
    "    \n",
    "    glutMainLoop()\n",
    "\n",
    "    vid.release()"
   ]
  }
 ]
}