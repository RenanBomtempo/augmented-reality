{
 "metadata": {
  "language_info": {
   "codemirror_mode": {
    "name": "ipython",
    "version": 3
   },
   "file_extension": ".py",
   "mimetype": "text/x-python",
   "name": "python",
   "nbconvert_exporter": "python",
   "pygments_lexer": "ipython3",
   "version": 3
  },
  "orig_nbformat": 2
 },
 "nbformat": 4,
 "nbformat_minor": 2,
 "cells": [
  {
   "source": [
    "# Trabalho Prático 2: Realidade Aumentada\n",
    "\n",
    "## Alunos: \n",
    "\n",
    "- Felipe Eduardo dos Santos - 2017021223\n",
    "- Renan Antunes Braga Bomtempo - 2018048524"
   ],
   "cell_type": "markdown",
   "metadata": {}
  },
  {
   "source": [
    "## Import\n"
   ],
   "cell_type": "markdown",
   "metadata": {}
  },
  {
   "cell_type": "code",
   "execution_count": null,
   "metadata": {},
   "outputs": [],
   "source": [
    "#!/usr/bin/python3\n",
    "\n",
    "import cv2\n",
    "\n",
    "from OpenGL.GL import *\n",
    "from OpenGL.GLUT import *\n",
    "from OpenGL.GLU import *\n",
    "\n",
    "from PIL import Image\n",
    "\n",
    "from opencvYAMLLoading import * \n",
    "\n",
    "from objloader import *\n"
   ]
  },
  {
   "source": [
    "## Codigo esqueleto"
   ],
   "cell_type": "markdown",
   "metadata": {}
  },
  {
   "cell_type": "code",
   "execution_count": null,
   "metadata": {},
   "outputs": [],
   "source": [
    "def initOpenGL(dimensions):\n",
    "    (width, height) = dimensions\n",
    "    \n",
    "    glClearColor(0.0, 0.0, 0.0, 0.0)\n",
    "    glClearDepth(1.0)\n",
    "\n",
    "    glEnable(GL_DEPTH_TEST)\n",
    "\n",
    "    glMatrixMode(GL_PROJECTION)\n",
    "    glLoadIdentity()\n",
    " \n",
    "    fovy = 45\n",
    "    aspect = (width)/(height)\n",
    "    gluPerspective(fovy, aspect, 0.1, 100.0)\n",
    "        \n",
    "def object3D(obj):\n",
    "    # translada o objeto para ficar 10 unidades distante da camera (para podermos ver o objeto)\n",
    "    glTranslate(0,0,-10)\n",
    "\n",
    "    # move o model em y para centralizar ele\n",
    "    glTranslate(0,-2,0)\n",
    "    # rotaciona o modelo para podermos ve-lo de frente\n",
    "    glRotate(90,1,0,0)\n",
    "    glRotate(180,0,1,0)\n",
    "    # renderiza o modelo do Pikachu\n",
    "    glCallList(obj.gl_list)\n",
    "\n",
    "    # renderiza um cubo\n",
    "    # glutWireCube(2.0)\n",
    "\n",
    "    \n",
    "def displayCallback():\n",
    "    glMatrixMode(GL_MODELVIEW)\n",
    "    glLoadIdentity()\n",
    "    \n",
    "    glClear(GL_COLOR_BUFFER_BIT | GL_DEPTH_BUFFER_BIT)\n",
    "    \n",
    "    # carregar o modelo 3D do Pikachu\n",
    "    obj = OBJ(\"Pikachu.obj\", swapyz=True)\n",
    "\n",
    "    # habilita o uso de texturas (o Pikachu tem textura)\n",
    "    glEnable(GL_TEXTURE_2D)\n",
    "\n",
    "    object3D(obj) \n",
    "        \n",
    "    glutSwapBuffers()    \n",
    "    \n",
    "\n",
    "def idleCallback():\n",
    "    glutPostRedisplay()\n",
    "    \n",
    "if __name__ == '__main__':\n",
    "    dimensions = (640, 480)\n",
    "    glutInit()\n",
    "    glutInitDisplayMode(GLUT_RGBA | GLUT_DOUBLE)\n",
    "    glutSetOption(GLUT_ACTION_ON_WINDOW_CLOSE, GLUT_ACTION_CONTINUE_EXECUTION)\n",
    "    glutInitWindowSize(*dimensions)\n",
    "    window = glutCreateWindow(b'Realidade Aumentada [codigo esqueleto]')\n",
    "    \n",
    "    initOpenGL(dimensions)\n",
    "    \n",
    "    glutDisplayFunc(displayCallback)\n",
    "    glutIdleFunc(idleCallback)\n",
    "    \n",
    "    glutMainLoop()"
   ]
  }
 ]
}